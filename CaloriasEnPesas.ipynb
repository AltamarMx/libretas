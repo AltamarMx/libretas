{
 "cells": [
  {
   "cell_type": "markdown",
   "metadata": {
    "colab_type": "text",
    "id": "jL4ceT4c0sW_"
   },
   "source": [
    "### Sencillo programa en Python para calcular las Calorías (kcalorías) que se menciona en el webinar ¿Cuánta energía uso al ejercitarme? G. Barrios y J.A. del Río, Coordinadora C. Morales IER-UNAM"
   ]
  },
  {
   "cell_type": "markdown",
   "metadata": {
    "colab_type": "text",
    "id": "_EsWGwnR18Yz"
   },
   "source": [
    "### Para correrlo ve a Runtime y selecciona restart and run all\n",
    "\n",
    "---\n",
    "\n"
   ]
  },
  {
   "cell_type": "markdown",
   "metadata": {
    "colab_type": "text",
    "id": "xsXDqDycsORM"
   },
   "source": [
    "Implementación de la fórmula para estimar las **Calorías** (kcalorías) al hacer repeticiones con pesas a partir del artículo http://doi:10.1249/MSS.0000000000001925. Se requieren los siguientes datos:\n",
    "**Altura** en cm\n",
    "**Edad** en años\n",
    "**Masa de grasa** de tu cuerpo en kg\n",
    "**Masa magra** de tu cuerpo en kg\n",
    "**Número de repeticiones**\n",
    "**Número de series**\n",
    "**Peso a levantar** en kg\n"
   ]
  },
  {
   "cell_type": "code",
   "execution_count": 1,
   "metadata": {
    "colab": {
     "base_uri": "https://localhost:8080/",
     "height": 52
    },
    "colab_type": "code",
    "id": "w_Qeomn3uIBC",
    "outputId": "88a010dc-4f6d-4400-f10d-eed9e85f5dce"
   },
   "outputs": [
    {
     "name": "stdout",
     "output_type": "stream",
     "text": [
      "tu altura en cm es: 169\n",
      "tu edad en años cumplidos es: 42\n",
      "tu masa de grasa en kg es: 18\n",
      "tu masa magra en kg es: 54\n",
      "número de series:4\n",
      "número de repeticiones: 10\n",
      "peso que levantas en kg: 80\n",
      "las Calorías (kilocalorías) que estarías utilizando al hacer 4.0 series de  10.0  repeticiones con un peso de  80.0 kg serían 89\n"
     ]
    }
   ],
   "source": [
    "\n",
    "A  = float(input(\"tu altura en cm es: \"))\n",
    "e  = float(input(\"tu edad en años cumplidos es: \"))\n",
    "mg = float(input(\"tu masa de grasa en kg es: \"))\n",
    "mm = float(input(\"tu masa magra en kg es: \"))\n",
    "s=float(input(\"número de series:\"))\n",
    "r=float(input(\"número de repeticiones: \"))\n",
    "p=float(input(\"peso que levantas en kg: \"))\n",
    "\n",
    "Cal = 0.874 * A -0.596*e-1.016*mg+1.638*mm+2.461*s*r*p*0.001-110.742\n",
    "\n",
    "print(\"las Calorías (kilocalorías) que estarías utilizando al hacer\",s, \n",
    "      \"series de \",r,\" repeticiones con un peso de \",p,\"kg serían\", int(Cal))"
   ]
  }
 ],
 "metadata": {
  "colab": {
   "collapsed_sections": [],
   "name": "CaloriasEnPesas.ipynb",
   "provenance": []
  },
  "kernelspec": {
   "display_name": "Python 3",
   "language": "python",
   "name": "python3"
  },
  "language_info": {
   "codemirror_mode": {
    "name": "ipython",
    "version": 3
   },
   "file_extension": ".py",
   "mimetype": "text/x-python",
   "name": "python",
   "nbconvert_exporter": "python",
   "pygments_lexer": "ipython3",
   "version": "3.7.6"
  }
 },
 "nbformat": 4,
 "nbformat_minor": 4
}
