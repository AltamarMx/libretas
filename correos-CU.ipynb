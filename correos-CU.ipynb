{
 "cells": [
  {
   "cell_type": "markdown",
   "metadata": {},
   "source": [
    "## Libreta para enviar un correo personalizado con un texto común \n",
    "## a un dataframe que tiene nombre, apellido1, apellido2, correo1 y correo2\n",
    "## usando yagmail"
   ]
  },
  {
   "cell_type": "code",
   "execution_count": null,
   "metadata": {},
   "outputs": [],
   "source": [
    "import yagmail\n",
    "import pandas as pd\n",
    "import numpy as np"
   ]
  },
  {
   "cell_type": "code",
   "execution_count": null,
   "metadata": {},
   "outputs": [],
   "source": [
    "texto1 = \"\"\"\n",
    "Gracias por participar en el proceso de admisión al posgrado de \n",
    "ingeniería (campo de conocimiento en energía). \n",
    "Tus respuestas al examen fueron recibidas en tiempo y forma. \n",
    "\n",
    "El análisis de los casos está en proceso y de acuerdo al \n",
    "calendario de la UNAM ajustado por el epidemia, la decisión \n",
    "sobre la aceptación al posgrado será publicada en la página \n",
    "del posgrado http://ingen.posgrado.unam.mx/resultados-de-admision/    \n",
    "el 24 de agosto.\n",
    "\n",
    "Dr. Eduardo Ramos Mora\n",
    "Coordinación Académica del Posgrado\n",
    "Instituto de Energías Renovables de la UNAM\n",
    "Privada Xochicalco S/N Col. Centro C.P. 62588\n",
    "Temixco, Morelos. México\n",
    "\"\"\"\n"
   ]
  },
  {
   "cell_type": "code",
   "execution_count": null,
   "metadata": {},
   "outputs": [],
   "source": [
    "# print(texto1)"
   ]
  },
  {
   "cell_type": "code",
   "execution_count": null,
   "metadata": {},
   "outputs": [],
   "source": [
    "# alumnos = pd.read_excel('xlsx/CalMateCU.xlsx',sheet_name=\"Etapa 2 ok 88\",\n",
    "#                         usecols=[7,8,9,10,11,20,],nrows=88)\n",
    "# # alumnos\n",
    "\n",
    "# alumnos['Matemáticas'] = alumnos['Matemáticas'].astype(str)\n",
    "# alumnos = alumnos[alumnos['Matemáticas'] != 'nan'  ]\n"
   ]
  },
  {
   "cell_type": "code",
   "execution_count": null,
   "metadata": {},
   "outputs": [],
   "source": [
    "#PRUEBA PARA GENERAR TODOS LOS CORREOS\n",
    "tema = \"Acuse de recibo del examen de admisión en matemáticas\"\n",
    "for i,alumno in alumnos.iterrows():\n",
    "    texto_completo = alumno.nombre + \" \" + alumno.apellido1 +  texto1\n",
    "#     print(i,texto_completo)"
   ]
  },
  {
   "cell_type": "code",
   "execution_count": null,
   "metadata": {
    "scrolled": false
   },
   "outputs": [],
   "source": [
    "tema = \"Acuse de recibo del examen de admisión en matemáticas\"\n",
    "for i,alumno in alumnos.iterrows():\n",
    "    texto_completo = alumno.nombre + \" \" + alumno.apellido1 +  texto1\n",
    "    print(alumno.nombre)\n",
    "    yagmail.SMTP('correo@gmail.com', 'clave_del_correo').send(to=alumno.correo1,\n",
    "                                                          subject=tema,\n",
    "                                                          contents=texto_completo)\n",
    "    yagmail.SMTP('correo@gmail.com', 'clave_del_correo').send(to=alumno.correo2,\n",
    "                                                          subject=tema,\n",
    "                                                              contents=texto_completo)"
   ]
  },
  {
   "cell_type": "code",
   "execution_count": null,
   "metadata": {},
   "outputs": [],
   "source": []
  },
  {
   "cell_type": "code",
   "execution_count": null,
   "metadata": {},
   "outputs": [],
   "source": []
  }
 ],
 "metadata": {
  "kernelspec": {
   "display_name": "Python 3",
   "language": "python",
   "name": "python3"
  },
  "language_info": {
   "codemirror_mode": {
    "name": "ipython",
    "version": 3
   },
   "file_extension": ".py",
   "mimetype": "text/x-python",
   "name": "python",
   "nbconvert_exporter": "python",
   "pygments_lexer": "ipython3",
   "version": "3.7.6"
  }
 },
 "nbformat": 4,
 "nbformat_minor": 4
}
